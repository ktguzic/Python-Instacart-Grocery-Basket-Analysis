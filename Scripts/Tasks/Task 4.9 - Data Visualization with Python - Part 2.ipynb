{
 "cells": [
  {
   "cell_type": "markdown",
   "id": "cb767ff5",
   "metadata": {},
   "source": [
    "# Visualizations"
   ]
  },
  {
   "cell_type": "code",
   "execution_count": 1,
   "id": "ff336ea8",
   "metadata": {},
   "outputs": [],
   "source": [
    "# import libraries\n",
    "\n",
    "import pandas as pd\n",
    "import numpy as np\n",
    "import os\n",
    "import matplotlib.pyplot as plt\n",
    "import seaborn as sns\n",
    "import scipy"
   ]
  },
  {
   "cell_type": "code",
   "execution_count": 2,
   "id": "fa59d7aa",
   "metadata": {},
   "outputs": [],
   "source": [
    "#path import\n",
    "path = r'C:\\Users\\guzic\\Contacts\\Instacart Grocery Basket Analysis'"
   ]
  },
  {
   "cell_type": "code",
   "execution_count": 3,
   "id": "1659a51d",
   "metadata": {},
   "outputs": [],
   "source": [
    "# pickel file import\n",
    "\n",
    "ords_prods_cust_merge = pd.read_pickle(os.path.join(path, '02 Data', 'Prepped Data', 'ords_prods_cust_merged.pkl'))"
   ]
  },
  {
   "cell_type": "code",
   "execution_count": 4,
   "id": "650fc687",
   "metadata": {},
   "outputs": [
    {
     "data": {
      "text/html": [
       "<div>\n",
       "<style scoped>\n",
       "    .dataframe tbody tr th:only-of-type {\n",
       "        vertical-align: middle;\n",
       "    }\n",
       "\n",
       "    .dataframe tbody tr th {\n",
       "        vertical-align: top;\n",
       "    }\n",
       "\n",
       "    .dataframe thead th {\n",
       "        text-align: right;\n",
       "    }\n",
       "</style>\n",
       "<table border=\"1\" class=\"dataframe\">\n",
       "  <thead>\n",
       "    <tr style=\"text-align: right;\">\n",
       "      <th></th>\n",
       "      <th>order_id</th>\n",
       "      <th>user_id</th>\n",
       "      <th>order_number</th>\n",
       "      <th>orders_day_of_the_week</th>\n",
       "      <th>time_of_order</th>\n",
       "      <th>days_since_prior_order</th>\n",
       "      <th>product_id</th>\n",
       "      <th>add_to_cart_order</th>\n",
       "      <th>reordered</th>\n",
       "      <th>_merge</th>\n",
       "      <th>...</th>\n",
       "      <th>frequency_flag</th>\n",
       "      <th>first_name</th>\n",
       "      <th>last_name</th>\n",
       "      <th>gender</th>\n",
       "      <th>state</th>\n",
       "      <th>age</th>\n",
       "      <th>date_joined</th>\n",
       "      <th>dependants</th>\n",
       "      <th>fam_status</th>\n",
       "      <th>income</th>\n",
       "    </tr>\n",
       "  </thead>\n",
       "  <tbody>\n",
       "    <tr>\n",
       "      <th>0</th>\n",
       "      <td>2539329</td>\n",
       "      <td>1</td>\n",
       "      <td>1</td>\n",
       "      <td>2</td>\n",
       "      <td>8</td>\n",
       "      <td>100000</td>\n",
       "      <td>196</td>\n",
       "      <td>1</td>\n",
       "      <td>0</td>\n",
       "      <td>both</td>\n",
       "      <td>...</td>\n",
       "      <td>Non-frequent customer</td>\n",
       "      <td>Linda</td>\n",
       "      <td>Nguyen</td>\n",
       "      <td>Female</td>\n",
       "      <td>Alabama</td>\n",
       "      <td>31</td>\n",
       "      <td>2/17/2019</td>\n",
       "      <td>3</td>\n",
       "      <td>married</td>\n",
       "      <td>40423</td>\n",
       "    </tr>\n",
       "    <tr>\n",
       "      <th>1</th>\n",
       "      <td>2398795</td>\n",
       "      <td>1</td>\n",
       "      <td>2</td>\n",
       "      <td>3</td>\n",
       "      <td>7</td>\n",
       "      <td>15.0</td>\n",
       "      <td>196</td>\n",
       "      <td>1</td>\n",
       "      <td>1</td>\n",
       "      <td>both</td>\n",
       "      <td>...</td>\n",
       "      <td>Non-frequent customer</td>\n",
       "      <td>Linda</td>\n",
       "      <td>Nguyen</td>\n",
       "      <td>Female</td>\n",
       "      <td>Alabama</td>\n",
       "      <td>31</td>\n",
       "      <td>2/17/2019</td>\n",
       "      <td>3</td>\n",
       "      <td>married</td>\n",
       "      <td>40423</td>\n",
       "    </tr>\n",
       "    <tr>\n",
       "      <th>2</th>\n",
       "      <td>473747</td>\n",
       "      <td>1</td>\n",
       "      <td>3</td>\n",
       "      <td>3</td>\n",
       "      <td>12</td>\n",
       "      <td>21.0</td>\n",
       "      <td>196</td>\n",
       "      <td>1</td>\n",
       "      <td>1</td>\n",
       "      <td>both</td>\n",
       "      <td>...</td>\n",
       "      <td>Non-frequent customer</td>\n",
       "      <td>Linda</td>\n",
       "      <td>Nguyen</td>\n",
       "      <td>Female</td>\n",
       "      <td>Alabama</td>\n",
       "      <td>31</td>\n",
       "      <td>2/17/2019</td>\n",
       "      <td>3</td>\n",
       "      <td>married</td>\n",
       "      <td>40423</td>\n",
       "    </tr>\n",
       "    <tr>\n",
       "      <th>3</th>\n",
       "      <td>2254736</td>\n",
       "      <td>1</td>\n",
       "      <td>4</td>\n",
       "      <td>4</td>\n",
       "      <td>7</td>\n",
       "      <td>29.0</td>\n",
       "      <td>196</td>\n",
       "      <td>1</td>\n",
       "      <td>1</td>\n",
       "      <td>both</td>\n",
       "      <td>...</td>\n",
       "      <td>Non-frequent customer</td>\n",
       "      <td>Linda</td>\n",
       "      <td>Nguyen</td>\n",
       "      <td>Female</td>\n",
       "      <td>Alabama</td>\n",
       "      <td>31</td>\n",
       "      <td>2/17/2019</td>\n",
       "      <td>3</td>\n",
       "      <td>married</td>\n",
       "      <td>40423</td>\n",
       "    </tr>\n",
       "    <tr>\n",
       "      <th>4</th>\n",
       "      <td>431534</td>\n",
       "      <td>1</td>\n",
       "      <td>5</td>\n",
       "      <td>4</td>\n",
       "      <td>15</td>\n",
       "      <td>28.0</td>\n",
       "      <td>196</td>\n",
       "      <td>1</td>\n",
       "      <td>1</td>\n",
       "      <td>both</td>\n",
       "      <td>...</td>\n",
       "      <td>Non-frequent customer</td>\n",
       "      <td>Linda</td>\n",
       "      <td>Nguyen</td>\n",
       "      <td>Female</td>\n",
       "      <td>Alabama</td>\n",
       "      <td>31</td>\n",
       "      <td>2/17/2019</td>\n",
       "      <td>3</td>\n",
       "      <td>married</td>\n",
       "      <td>40423</td>\n",
       "    </tr>\n",
       "  </tbody>\n",
       "</table>\n",
       "<p>5 rows × 33 columns</p>\n",
       "</div>"
      ],
      "text/plain": [
       "   order_id user_id  order_number  orders_day_of_the_week  time_of_order  \\\n",
       "0   2539329       1             1                       2              8   \n",
       "1   2398795       1             2                       3              7   \n",
       "2    473747       1             3                       3             12   \n",
       "3   2254736       1             4                       4              7   \n",
       "4    431534       1             5                       4             15   \n",
       "\n",
       "  days_since_prior_order  product_id  add_to_cart_order  reordered _merge  \\\n",
       "0                 100000         196                  1          0   both   \n",
       "1                   15.0         196                  1          1   both   \n",
       "2                   21.0         196                  1          1   both   \n",
       "3                   29.0         196                  1          1   both   \n",
       "4                   28.0         196                  1          1   both   \n",
       "\n",
       "   ...         frequency_flag  first_name  last_name  gender    state age  \\\n",
       "0  ...  Non-frequent customer       Linda     Nguyen  Female  Alabama  31   \n",
       "1  ...  Non-frequent customer       Linda     Nguyen  Female  Alabama  31   \n",
       "2  ...  Non-frequent customer       Linda     Nguyen  Female  Alabama  31   \n",
       "3  ...  Non-frequent customer       Linda     Nguyen  Female  Alabama  31   \n",
       "4  ...  Non-frequent customer       Linda     Nguyen  Female  Alabama  31   \n",
       "\n",
       "  date_joined dependants  fam_status income  \n",
       "0   2/17/2019          3     married  40423  \n",
       "1   2/17/2019          3     married  40423  \n",
       "2   2/17/2019          3     married  40423  \n",
       "3   2/17/2019          3     married  40423  \n",
       "4   2/17/2019          3     married  40423  \n",
       "\n",
       "[5 rows x 33 columns]"
      ]
     },
     "execution_count": 4,
     "metadata": {},
     "output_type": "execute_result"
    }
   ],
   "source": [
    "# import check\n",
    "\n",
    "ords_prods_cust_merge.head()"
   ]
  },
  {
   "cell_type": "code",
   "execution_count": 5,
   "id": "42a89cd2",
   "metadata": {},
   "outputs": [],
   "source": [
    "# creating a bar chart"
   ]
  },
  {
   "cell_type": "code",
   "execution_count": 6,
   "id": "176ddb9f",
   "metadata": {},
   "outputs": [
    {
     "data": {
      "text/plain": [
       "<AxesSubplot:>"
      ]
     },
     "execution_count": 6,
     "metadata": {},
     "output_type": "execute_result"
    },
    {
     "data": {
      "image/png": "[encoded data removed]",
      "text/plain": [
       "<Figure size 432x288 with 1 Axes>"
      ]
     },
     "metadata": {
      "needs_background": "light"
     },
     "output_type": "display_data"
    }
   ],
   "source": [
    "ords_prods_cust_merge['orders_day_of_the_week'].value_counts().plot.bar()"
   ]
  },
  {
   "cell_type": "code",
   "execution_count": 7,
   "id": "ba8fbbf2",
   "metadata": {},
   "outputs": [
    {
     "data": {
      "text/plain": [
       "<AxesSubplot:>"
      ]
     },
     "execution_count": 7,
     "metadata": {},
     "output_type": "execute_result"
    },
    {
     "data": {
      "image/png": "[encoded data removed]",
      "text/plain": [
       "<Figure size 432x288 with 1 Axes>"
      ]
     },
     "metadata": {
      "needs_background": "light"
     },
     "output_type": "display_data"
    }
   ],
   "source": [
    "# sorting index\n",
    "\n",
    "ords_prods_cust_merge['orders_day_of_the_week'].value_counts().sort_index().plot.bar()"
   ]
  },
  {
   "cell_type": "code",
   "execution_count": 8,
   "id": "8de30935",
   "metadata": {},
   "outputs": [
    {
     "data": {
      "text/plain": [
       "0    6204182\n",
       "1    5660230\n",
       "2    4213830\n",
       "3    3840534\n",
       "4    3783802\n",
       "5    4205791\n",
       "6    4496490\n",
       "Name: orders_day_of_the_week, dtype: int64"
      ]
     },
     "execution_count": 8,
     "metadata": {},
     "output_type": "execute_result"
    }
   ],
   "source": [
    "# done w/ frequenciess\n",
    "\n",
    "ords_prods_cust_merge['orders_day_of_the_week'].value_counts(dropna = False).sort_index()"
   ]
  },
  {
   "cell_type": "code",
   "execution_count": 9,
   "id": "1f5b2873",
   "metadata": {},
   "outputs": [],
   "source": [
    "# adding color to bar chart"
   ]
  },
  {
   "cell_type": "code",
   "execution_count": 10,
   "id": "b0cae547",
   "metadata": {},
   "outputs": [
    {
     "data": {
      "image/png": "[encoded data removed]",
      "text/plain": [
       "<Figure size 432x288 with 1 Axes>"
      ]
     },
     "metadata": {
      "needs_background": "light"
     },
     "output_type": "display_data"
    }
   ],
   "source": [
    "bar1 = ords_prods_cust_merge['orders_day_of_the_week'].value_counts().plot.bar(color =['purple', 'red', 'pink', 'orange', 'yellow', 'green', 'blue'])"
   ]
  },
  {
   "cell_type": "code",
   "execution_count": 11,
   "id": "5c323856",
   "metadata": {},
   "outputs": [],
   "source": [
    "# export as png file to project folder\n",
    "\n",
    "bar1.figure.savefig(os.path.join(path, '04 Analysis','Visualizations', 'bar1_orders_dow.png'))"
   ]
  },
  {
   "cell_type": "code",
   "execution_count": 12,
   "id": "21cf3903",
   "metadata": {},
   "outputs": [],
   "source": [
    "# creating historgrams and scatterplots"
   ]
  },
  {
   "cell_type": "code",
   "execution_count": 13,
   "id": "6510854c",
   "metadata": {},
   "outputs": [
    {
     "data": {
      "text/plain": [
       "<AxesSubplot:ylabel='Frequency'>"
      ]
     },
     "execution_count": 13,
     "metadata": {},
     "output_type": "execute_result"
    },
    {
     "data": {
      "image/png": "[encoded data removed]",
      "text/plain": [
       "<Figure size 432x288 with 1 Axes>"
      ]
     },
     "metadata": {
      "needs_background": "light"
     },
     "output_type": "display_data"
    }
   ],
   "source": [
    "ords_prods_cust_merge['prices'].plot.hist(bins = 25)"
   ]
  },
  {
   "cell_type": "code",
   "execution_count": 14,
   "id": "fd4f17a1",
   "metadata": {},
   "outputs": [],
   "source": [
    "# something is not right... \n",
    "# perform check"
   ]
  },
  {
   "cell_type": "code",
   "execution_count": 15,
   "id": "12851a55",
   "metadata": {},
   "outputs": [
    {
     "data": {
      "text/plain": [
       "count    3.240486e+07\n",
       "mean     1.198023e+01\n",
       "std      4.956554e+02\n",
       "min      1.000000e+00\n",
       "25%      4.200000e+00\n",
       "50%      7.400000e+00\n",
       "75%      1.130000e+01\n",
       "max      9.999900e+04\n",
       "Name: prices, dtype: float64"
      ]
     },
     "execution_count": 15,
     "metadata": {},
     "output_type": "execute_result"
    }
   ],
   "source": [
    "ords_prods_cust_merge['prices'].describe()"
   ]
  },
  {
   "cell_type": "code",
   "execution_count": 16,
   "id": "cbab2a27",
   "metadata": {},
   "outputs": [
    {
     "data": {
      "text/plain": [
       "99999.0"
      ]
     },
     "execution_count": 16,
     "metadata": {},
     "output_type": "execute_result"
    }
   ],
   "source": [
    "ords_prods_cust_merge['prices'].max()"
   ]
  },
  {
   "cell_type": "code",
   "execution_count": 17,
   "id": "2fc4b480",
   "metadata": {},
   "outputs": [
    {
     "data": {
      "image/png": "[encoded data removed]",
      "text/plain": [
       "<Figure size 432x288 with 1 Axes>"
      ]
     },
     "metadata": {
      "needs_background": "light"
     },
     "output_type": "display_data"
    }
   ],
   "source": [
    "# check w/ scatterplot\n",
    "\n",
    "scatter_plot1 = sns.scatterplot(x = 'prices', y = 'prices',data = ords_prods_cust_merge)"
   ]
  },
  {
   "cell_type": "code",
   "execution_count": 18,
   "id": "c3f8549c",
   "metadata": {},
   "outputs": [
    {
     "data": {
      "text/html": [
       "<div>\n",
       "<style scoped>\n",
       "    .dataframe tbody tr th:only-of-type {\n",
       "        vertical-align: middle;\n",
       "    }\n",
       "\n",
       "    .dataframe tbody tr th {\n",
       "        vertical-align: top;\n",
       "    }\n",
       "\n",
       "    .dataframe thead th {\n",
       "        text-align: right;\n",
       "    }\n",
       "</style>\n",
       "<table border=\"1\" class=\"dataframe\">\n",
       "  <thead>\n",
       "    <tr style=\"text-align: right;\">\n",
       "      <th></th>\n",
       "      <th>order_id</th>\n",
       "      <th>user_id</th>\n",
       "      <th>order_number</th>\n",
       "      <th>orders_day_of_the_week</th>\n",
       "      <th>time_of_order</th>\n",
       "      <th>days_since_prior_order</th>\n",
       "      <th>product_id</th>\n",
       "      <th>add_to_cart_order</th>\n",
       "      <th>reordered</th>\n",
       "      <th>_merge</th>\n",
       "      <th>...</th>\n",
       "      <th>frequency_flag</th>\n",
       "      <th>first_name</th>\n",
       "      <th>last_name</th>\n",
       "      <th>gender</th>\n",
       "      <th>state</th>\n",
       "      <th>age</th>\n",
       "      <th>date_joined</th>\n",
       "      <th>dependants</th>\n",
       "      <th>fam_status</th>\n",
       "      <th>income</th>\n",
       "    </tr>\n",
       "  </thead>\n",
       "  <tbody>\n",
       "    <tr>\n",
       "      <th>7805</th>\n",
       "      <td>1435153</td>\n",
       "      <td>1519</td>\n",
       "      <td>26</td>\n",
       "      <td>2</td>\n",
       "      <td>11</td>\n",
       "      <td>6.0</td>\n",
       "      <td>21553</td>\n",
       "      <td>15</td>\n",
       "      <td>0</td>\n",
       "      <td>both</td>\n",
       "      <td>...</td>\n",
       "      <td>Frequent customer</td>\n",
       "      <td>Craig</td>\n",
       "      <td>Clark</td>\n",
       "      <td>Male</td>\n",
       "      <td>Rhode Island</td>\n",
       "      <td>68</td>\n",
       "      <td>3/4/2020</td>\n",
       "      <td>0</td>\n",
       "      <td>divorced/widowed</td>\n",
       "      <td>177864</td>\n",
       "    </tr>\n",
       "    <tr>\n",
       "      <th>7806</th>\n",
       "      <td>1066435</td>\n",
       "      <td>1519</td>\n",
       "      <td>32</td>\n",
       "      <td>3</td>\n",
       "      <td>10</td>\n",
       "      <td>5.0</td>\n",
       "      <td>21553</td>\n",
       "      <td>28</td>\n",
       "      <td>1</td>\n",
       "      <td>both</td>\n",
       "      <td>...</td>\n",
       "      <td>Frequent customer</td>\n",
       "      <td>Craig</td>\n",
       "      <td>Clark</td>\n",
       "      <td>Male</td>\n",
       "      <td>Rhode Island</td>\n",
       "      <td>68</td>\n",
       "      <td>3/4/2020</td>\n",
       "      <td>0</td>\n",
       "      <td>divorced/widowed</td>\n",
       "      <td>177864</td>\n",
       "    </tr>\n",
       "    <tr>\n",
       "      <th>15143</th>\n",
       "      <td>1697208</td>\n",
       "      <td>2409</td>\n",
       "      <td>33</td>\n",
       "      <td>1</td>\n",
       "      <td>19</td>\n",
       "      <td>5.0</td>\n",
       "      <td>21553</td>\n",
       "      <td>1</td>\n",
       "      <td>0</td>\n",
       "      <td>both</td>\n",
       "      <td>...</td>\n",
       "      <td>Frequent customer</td>\n",
       "      <td>Nicole</td>\n",
       "      <td>Odonnell</td>\n",
       "      <td>Female</td>\n",
       "      <td>Hawaii</td>\n",
       "      <td>55</td>\n",
       "      <td>11/11/2018</td>\n",
       "      <td>2</td>\n",
       "      <td>married</td>\n",
       "      <td>230074</td>\n",
       "    </tr>\n",
       "    <tr>\n",
       "      <th>20264</th>\n",
       "      <td>965345</td>\n",
       "      <td>3531</td>\n",
       "      <td>27</td>\n",
       "      <td>2</td>\n",
       "      <td>19</td>\n",
       "      <td>8.0</td>\n",
       "      <td>33664</td>\n",
       "      <td>2</td>\n",
       "      <td>0</td>\n",
       "      <td>both</td>\n",
       "      <td>...</td>\n",
       "      <td>Frequent customer</td>\n",
       "      <td>Alice</td>\n",
       "      <td>Compton</td>\n",
       "      <td>Female</td>\n",
       "      <td>Hawaii</td>\n",
       "      <td>80</td>\n",
       "      <td>10/6/2019</td>\n",
       "      <td>2</td>\n",
       "      <td>married</td>\n",
       "      <td>233776</td>\n",
       "    </tr>\n",
       "    <tr>\n",
       "      <th>20497</th>\n",
       "      <td>2943740</td>\n",
       "      <td>3793</td>\n",
       "      <td>1</td>\n",
       "      <td>2</td>\n",
       "      <td>9</td>\n",
       "      <td>100000</td>\n",
       "      <td>21553</td>\n",
       "      <td>3</td>\n",
       "      <td>0</td>\n",
       "      <td>both</td>\n",
       "      <td>...</td>\n",
       "      <td>Regular customer</td>\n",
       "      <td>Jerry</td>\n",
       "      <td>Allen</td>\n",
       "      <td>Male</td>\n",
       "      <td>Louisiana</td>\n",
       "      <td>59</td>\n",
       "      <td>8/23/2019</td>\n",
       "      <td>3</td>\n",
       "      <td>married</td>\n",
       "      <td>182933</td>\n",
       "    </tr>\n",
       "    <tr>\n",
       "      <th>...</th>\n",
       "      <td>...</td>\n",
       "      <td>...</td>\n",
       "      <td>...</td>\n",
       "      <td>...</td>\n",
       "      <td>...</td>\n",
       "      <td>...</td>\n",
       "      <td>...</td>\n",
       "      <td>...</td>\n",
       "      <td>...</td>\n",
       "      <td>...</td>\n",
       "      <td>...</td>\n",
       "      <td>...</td>\n",
       "      <td>...</td>\n",
       "      <td>...</td>\n",
       "      <td>...</td>\n",
       "      <td>...</td>\n",
       "      <td>...</td>\n",
       "      <td>...</td>\n",
       "      <td>...</td>\n",
       "      <td>...</td>\n",
       "      <td>...</td>\n",
       "    </tr>\n",
       "    <tr>\n",
       "      <th>32303799</th>\n",
       "      <td>3265389</td>\n",
       "      <td>51346</td>\n",
       "      <td>4</td>\n",
       "      <td>1</td>\n",
       "      <td>17</td>\n",
       "      <td>13.0</td>\n",
       "      <td>33664</td>\n",
       "      <td>2</td>\n",
       "      <td>1</td>\n",
       "      <td>both</td>\n",
       "      <td>...</td>\n",
       "      <td>Regular customer</td>\n",
       "      <td>Not Provided</td>\n",
       "      <td>Gould</td>\n",
       "      <td>Male</td>\n",
       "      <td>Rhode Island</td>\n",
       "      <td>58</td>\n",
       "      <td>1/25/2019</td>\n",
       "      <td>1</td>\n",
       "      <td>married</td>\n",
       "      <td>207497</td>\n",
       "    </tr>\n",
       "    <tr>\n",
       "      <th>32307882</th>\n",
       "      <td>1179092</td>\n",
       "      <td>131671</td>\n",
       "      <td>12</td>\n",
       "      <td>4</td>\n",
       "      <td>9</td>\n",
       "      <td>15.0</td>\n",
       "      <td>33664</td>\n",
       "      <td>1</td>\n",
       "      <td>0</td>\n",
       "      <td>both</td>\n",
       "      <td>...</td>\n",
       "      <td>Regular customer</td>\n",
       "      <td>Diana</td>\n",
       "      <td>Hansen</td>\n",
       "      <td>Female</td>\n",
       "      <td>Rhode Island</td>\n",
       "      <td>35</td>\n",
       "      <td>8/4/2018</td>\n",
       "      <td>0</td>\n",
       "      <td>single</td>\n",
       "      <td>86490</td>\n",
       "    </tr>\n",
       "    <tr>\n",
       "      <th>32310810</th>\n",
       "      <td>1226705</td>\n",
       "      <td>39667</td>\n",
       "      <td>7</td>\n",
       "      <td>2</td>\n",
       "      <td>15</td>\n",
       "      <td>20.0</td>\n",
       "      <td>33664</td>\n",
       "      <td>14</td>\n",
       "      <td>0</td>\n",
       "      <td>both</td>\n",
       "      <td>...</td>\n",
       "      <td>Non-frequent customer</td>\n",
       "      <td>Johnny</td>\n",
       "      <td>Colon</td>\n",
       "      <td>Male</td>\n",
       "      <td>Rhode Island</td>\n",
       "      <td>78</td>\n",
       "      <td>5/8/2019</td>\n",
       "      <td>2</td>\n",
       "      <td>married</td>\n",
       "      <td>195077</td>\n",
       "    </tr>\n",
       "    <tr>\n",
       "      <th>32330048</th>\n",
       "      <td>3000037</td>\n",
       "      <td>95105</td>\n",
       "      <td>2</td>\n",
       "      <td>4</td>\n",
       "      <td>19</td>\n",
       "      <td>22.0</td>\n",
       "      <td>33664</td>\n",
       "      <td>4</td>\n",
       "      <td>0</td>\n",
       "      <td>both</td>\n",
       "      <td>...</td>\n",
       "      <td>Frequent customer</td>\n",
       "      <td>Catherine</td>\n",
       "      <td>Browning</td>\n",
       "      <td>Female</td>\n",
       "      <td>South Carolina</td>\n",
       "      <td>48</td>\n",
       "      <td>1/18/2017</td>\n",
       "      <td>2</td>\n",
       "      <td>married</td>\n",
       "      <td>398880</td>\n",
       "    </tr>\n",
       "    <tr>\n",
       "      <th>32330049</th>\n",
       "      <td>2741225</td>\n",
       "      <td>95105</td>\n",
       "      <td>4</td>\n",
       "      <td>5</td>\n",
       "      <td>12</td>\n",
       "      <td>2.0</td>\n",
       "      <td>33664</td>\n",
       "      <td>3</td>\n",
       "      <td>1</td>\n",
       "      <td>both</td>\n",
       "      <td>...</td>\n",
       "      <td>Frequent customer</td>\n",
       "      <td>Catherine</td>\n",
       "      <td>Browning</td>\n",
       "      <td>Female</td>\n",
       "      <td>South Carolina</td>\n",
       "      <td>48</td>\n",
       "      <td>1/18/2017</td>\n",
       "      <td>2</td>\n",
       "      <td>married</td>\n",
       "      <td>398880</td>\n",
       "    </tr>\n",
       "  </tbody>\n",
       "</table>\n",
       "<p>5127 rows × 33 columns</p>\n",
       "</div>"
      ],
      "text/plain": [
       "          order_id user_id  order_number  orders_day_of_the_week  \\\n",
       "7805       1435153    1519            26                       2   \n",
       "7806       1066435    1519            32                       3   \n",
       "15143      1697208    2409            33                       1   \n",
       "20264       965345    3531            27                       2   \n",
       "20497      2943740    3793             1                       2   \n",
       "...            ...     ...           ...                     ...   \n",
       "32303799   3265389   51346             4                       1   \n",
       "32307882   1179092  131671            12                       4   \n",
       "32310810   1226705   39667             7                       2   \n",
       "32330048   3000037   95105             2                       4   \n",
       "32330049   2741225   95105             4                       5   \n",
       "\n",
       "          time_of_order days_since_prior_order  product_id  add_to_cart_order  \\\n",
       "7805                 11                    6.0       21553                 15   \n",
       "7806                 10                    5.0       21553                 28   \n",
       "15143                19                    5.0       21553                  1   \n",
       "20264                19                    8.0       33664                  2   \n",
       "20497                 9                 100000       21553                  3   \n",
       "...                 ...                    ...         ...                ...   \n",
       "32303799             17                   13.0       33664                  2   \n",
       "32307882              9                   15.0       33664                  1   \n",
       "32310810             15                   20.0       33664                 14   \n",
       "32330048             19                   22.0       33664                  4   \n",
       "32330049             12                    2.0       33664                  3   \n",
       "\n",
       "          reordered _merge  ...         frequency_flag    first_name  \\\n",
       "7805              0   both  ...      Frequent customer         Craig   \n",
       "7806              1   both  ...      Frequent customer         Craig   \n",
       "15143             0   both  ...      Frequent customer        Nicole   \n",
       "20264             0   both  ...      Frequent customer         Alice   \n",
       "20497             0   both  ...       Regular customer         Jerry   \n",
       "...             ...    ...  ...                    ...           ...   \n",
       "32303799          1   both  ...       Regular customer  Not Provided   \n",
       "32307882          0   both  ...       Regular customer         Diana   \n",
       "32310810          0   both  ...  Non-frequent customer        Johnny   \n",
       "32330048          0   both  ...      Frequent customer     Catherine   \n",
       "32330049          1   both  ...      Frequent customer     Catherine   \n",
       "\n",
       "          last_name  gender           state age date_joined dependants  \\\n",
       "7805          Clark    Male    Rhode Island  68    3/4/2020          0   \n",
       "7806          Clark    Male    Rhode Island  68    3/4/2020          0   \n",
       "15143      Odonnell  Female          Hawaii  55  11/11/2018          2   \n",
       "20264       Compton  Female          Hawaii  80   10/6/2019          2   \n",
       "20497         Allen    Male       Louisiana  59   8/23/2019          3   \n",
       "...             ...     ...             ...  ..         ...        ...   \n",
       "32303799      Gould    Male    Rhode Island  58   1/25/2019          1   \n",
       "32307882     Hansen  Female    Rhode Island  35    8/4/2018          0   \n",
       "32310810      Colon    Male    Rhode Island  78    5/8/2019          2   \n",
       "32330048   Browning  Female  South Carolina  48   1/18/2017          2   \n",
       "32330049   Browning  Female  South Carolina  48   1/18/2017          2   \n",
       "\n",
       "                fam_status  income  \n",
       "7805      divorced/widowed  177864  \n",
       "7806      divorced/widowed  177864  \n",
       "15143              married  230074  \n",
       "20264              married  233776  \n",
       "20497              married  182933  \n",
       "...                    ...     ...  \n",
       "32303799           married  207497  \n",
       "32307882            single   86490  \n",
       "32310810           married  195077  \n",
       "32330048           married  398880  \n",
       "32330049           married  398880  \n",
       "\n",
       "[5127 rows x 33 columns]"
      ]
     },
     "execution_count": 18,
     "metadata": {},
     "output_type": "execute_result"
    }
   ],
   "source": [
    "# checking for the high values that don't make sense\n",
    "\n",
    "ords_prods_cust_merge.loc[ords_prods_cust_merge['prices'] > 100]"
   ]
  },
  {
   "cell_type": "code",
   "execution_count": 19,
   "id": "c02c9aee",
   "metadata": {},
   "outputs": [],
   "source": [
    "# marking the prices greater than 100 as missing\n",
    "\n",
    "ords_prods_cust_merge.loc[ords_prods_cust_merge['prices'] >100, 'prices'] = np.nan"
   ]
  },
  {
   "cell_type": "code",
   "execution_count": 20,
   "id": "4ca4326f",
   "metadata": {},
   "outputs": [
    {
     "data": {
      "text/plain": [
       "25.0"
      ]
     },
     "execution_count": 20,
     "metadata": {},
     "output_type": "execute_result"
    }
   ],
   "source": [
    "# check\n",
    "\n",
    "ords_prods_cust_merge['prices'].max()"
   ]
  },
  {
   "cell_type": "code",
   "execution_count": 21,
   "id": "cfecea0c",
   "metadata": {},
   "outputs": [],
   "source": [
    "# re-do the histogram"
   ]
  },
  {
   "cell_type": "code",
   "execution_count": 22,
   "id": "d49dbc95",
   "metadata": {},
   "outputs": [
    {
     "data": {
      "image/png": "[encoded data removed]",
      "text/plain": [
       "<Figure size 432x288 with 1 Axes>"
      ]
     },
     "metadata": {
      "needs_background": "light"
     },
     "output_type": "display_data"
    }
   ],
   "source": [
    "hist1 = ords_prods_cust_merge['prices'].plot.hist(bins = 25)"
   ]
  },
  {
   "cell_type": "code",
   "execution_count": 23,
   "id": "d05e115d",
   "metadata": {},
   "outputs": [],
   "source": [
    "# changing bins view"
   ]
  },
  {
   "cell_type": "code",
   "execution_count": 24,
   "id": "2f5ab99f",
   "metadata": {},
   "outputs": [
    {
     "data": {
      "image/png": "[encoded data removed]",
      "text/plain": [
       "<Figure size 432x288 with 1 Axes>"
      ]
     },
     "metadata": {
      "needs_background": "light"
     },
     "output_type": "display_data"
    }
   ],
   "source": [
    "hist2 = ords_prods_cust_merge['prices'].plot.hist(bins = 70)"
   ]
  },
  {
   "cell_type": "code",
   "execution_count": 25,
   "id": "06c0afee",
   "metadata": {},
   "outputs": [],
   "source": [
    "# export to project folder\n",
    "\n",
    "hist2.figure.savefig(os.path.join(path, '04 Analysis','Visualizations', 'hist1_prices.png'))"
   ]
  },
  {
   "cell_type": "code",
   "execution_count": 26,
   "id": "48a17481",
   "metadata": {},
   "outputs": [
    {
     "data": {
      "text/plain": [
       "array([0.15008664, 0.28792333, 0.25133549, 0.34450481])"
      ]
     },
     "execution_count": 26,
     "metadata": {},
     "output_type": "execute_result"
    }
   ],
   "source": [
    "np.random.rand(4)"
   ]
  },
  {
   "cell_type": "code",
   "execution_count": 27,
   "id": "81d4c01f",
   "metadata": {},
   "outputs": [],
   "source": [
    "# creating the sample for the line chart\n",
    "\n",
    "# So, to recap each piece of the split code, you need to:\n",
    "\n",
    "# 1 - Set the seed for the random number generator.\n",
    "# 2 - Create 32,404,859 random numbers (the length of your ords_prods_merge dataframe) ranging between 0 and 1.\n",
    "# 3 - Code a logical test comparing each of those numbers to a value of 0.7 (either less than or greater than 0.7).\n",
    "# 4 - Store the results of the test in a new list, dev, in the form of boolean values (True and False)."
   ]
  },
  {
   "cell_type": "code",
   "execution_count": 28,
   "id": "62240093",
   "metadata": {},
   "outputs": [],
   "source": [
    "# Create a list holding True/False values to test the np.random.rank() <= 0.7"
   ]
  },
  {
   "cell_type": "code",
   "execution_count": 30,
   "id": "2151584f",
   "metadata": {},
   "outputs": [],
   "source": [
    "dev = np.random.rand(len(ords_prods_cust_merge)) <= 0.7"
   ]
  },
  {
   "cell_type": "code",
   "execution_count": 31,
   "id": "df60272d",
   "metadata": {},
   "outputs": [],
   "source": [
    "# Store 70% of the sample in the dataframe big\n",
    "\n",
    "big = ords_prods_cust_merge[dev]"
   ]
  },
  {
   "cell_type": "code",
   "execution_count": 33,
   "id": "979f9e28",
   "metadata": {},
   "outputs": [],
   "source": [
    "# Store 30% of the sample in the dataframe small\n",
    "\n",
    "small = ords_prods_cust_merge[~dev]"
   ]
  },
  {
   "cell_type": "code",
   "execution_count": 34,
   "id": "fe5e247f",
   "metadata": {},
   "outputs": [],
   "source": [
    "# check that results were achieved"
   ]
  },
  {
   "cell_type": "code",
   "execution_count": 36,
   "id": "3f8bec0f",
   "metadata": {},
   "outputs": [
    {
     "data": {
      "text/plain": [
       "32404859"
      ]
     },
     "execution_count": 36,
     "metadata": {},
     "output_type": "execute_result"
    }
   ],
   "source": [
    "len(ords_prods_cust_merge)"
   ]
  },
  {
   "cell_type": "code",
   "execution_count": 37,
   "id": "5b8c0b82",
   "metadata": {},
   "outputs": [
    {
     "data": {
      "text/plain": [
       "32404859"
      ]
     },
     "execution_count": 37,
     "metadata": {},
     "output_type": "execute_result"
    }
   ],
   "source": [
    "len(big) + len(small)"
   ]
  },
  {
   "cell_type": "code",
   "execution_count": 38,
   "id": "a265157f",
   "metadata": {},
   "outputs": [],
   "source": [
    "# They're the same - it worked!"
   ]
  },
  {
   "cell_type": "code",
   "execution_count": 39,
   "id": "9e2963c0",
   "metadata": {},
   "outputs": [],
   "source": [
    "# reducing sample to only those columns needed - helps speed up process\n",
    "\n",
    "df_2 = small[['orders_day_of_the_week', 'prices']]"
   ]
  },
  {
   "cell_type": "code",
   "execution_count": 41,
   "id": "c5a6e619",
   "metadata": {},
   "outputs": [
    {
     "data": {
      "image/png": "[encoded data removed]",
      "text/plain": [
       "<Figure size 432x288 with 1 Axes>"
      ]
     },
     "metadata": {
      "needs_background": "light"
     },
     "output_type": "display_data"
    }
   ],
   "source": [
    "# Line chart code\n",
    "\n",
    "line1_ords_day_of_week = sns.lineplot(data = df_2, x = 'orders_day_of_the_week', y = 'prices')"
   ]
  },
  {
   "cell_type": "code",
   "execution_count": 42,
   "id": "9b8538cd",
   "metadata": {},
   "outputs": [],
   "source": [
    "# export to project folder\n",
    "\n",
    "line1_ords_day_of_week.figure.savefig(os.path.join(path, '04 Analysis','Visualizations', 'line1_ords_day_of_week.png'))"
   ]
  },
  {
   "cell_type": "code",
   "execution_count": 43,
   "id": "a7befd05",
   "metadata": {},
   "outputs": [],
   "source": [
    "# compare sample chart against entire data fram or against big sample - Do NOT run\n",
    "\n",
    "#df_4 = ords_prods_merge[['orders_day_of_the_week', 'prices']]"
   ]
  },
  {
   "cell_type": "code",
   "execution_count": 44,
   "id": "3e2d470e",
   "metadata": {},
   "outputs": [],
   "source": [
    "# code for the check against full data frame - DO NOT ACTUALLY RUN\n",
    "\n",
    "# line_2 = sns.lineplot(data = df_4, x='orders_day_of_the_week', y='prices')"
   ]
  },
  {
   "cell_type": "code",
   "execution_count": 45,
   "id": "2c802854",
   "metadata": {},
   "outputs": [],
   "source": [
    "# 3 - You need to provide the Instacart senior stakeholders with descriptive\n",
    "# findings about sales. Create a histogram of the “order_hour_of_day” column.\n",
    "\n",
    "# In a markdown cell beneath your histogram, describe what the histogram \n",
    "#demonstrates."
   ]
  },
  {
   "cell_type": "code",
   "execution_count": 58,
   "id": "98cc3c4c",
   "metadata": {},
   "outputs": [
    {
     "data": {
      "image/png": "[encoded data removed]",
      "text/plain": [
       "<Figure size 432x288 with 1 Axes>"
      ]
     },
     "metadata": {
      "needs_background": "light"
     },
     "output_type": "display_data"
    }
   ],
   "source": [
    "hist_time_order = ords_prods_cust_merge['time_of_order'].plot.hist(bins = 25)"
   ]
  },
  {
   "cell_type": "code",
   "execution_count": 47,
   "id": "647f2bbf",
   "metadata": {},
   "outputs": [],
   "source": [
    "# The histogram shows at what time of the day the orders were placed. \n",
    "# It looks like the most order occur between 9am and 10 am and the least\n",
    "# at 3am. It should be noted that it looks like no order were placed between\n",
    "# 11am and 12pm. Could there be a reason why that happens?"
   ]
  },
  {
   "cell_type": "code",
   "execution_count": 60,
   "id": "b63be013",
   "metadata": {},
   "outputs": [],
   "source": [
    "# export to project folder\n",
    "\n",
    "hist_time_order.figure.savefig(os.path.join(path, '04 Analysis','Visualizations', 'hist_time_order.png'))"
   ]
  },
  {
   "cell_type": "code",
   "execution_count": 48,
   "id": "2eba967d",
   "metadata": {},
   "outputs": [],
   "source": [
    "# 4 - The marketing team is curious about the distribution of orders among \n",
    "# customers in terms of loyalty. \n",
    "# Create a bar chart from the “loyalty_flag” column."
   ]
  },
  {
   "cell_type": "code",
   "execution_count": 61,
   "id": "63313bdb",
   "metadata": {},
   "outputs": [
    {
     "data": {
      "image/png": "[encoded data removed]",
      "text/plain": [
       "<Figure size 432x288 with 1 Axes>"
      ]
     },
     "metadata": {
      "needs_background": "light"
     },
     "output_type": "display_data"
    }
   ],
   "source": [
    "bar_loyalty_flag = ords_prods_cust_merge['loyalty_flag'].value_counts().plot.bar()"
   ]
  },
  {
   "cell_type": "code",
   "execution_count": 50,
   "id": "10892484",
   "metadata": {},
   "outputs": [],
   "source": [
    "# changing colors of bar chart"
   ]
  },
  {
   "cell_type": "code",
   "execution_count": 62,
   "id": "c444fe2d",
   "metadata": {},
   "outputs": [
    {
     "data": {
      "image/png": "[encoded data removed]",
      "text/plain": [
       "<Figure size 432x288 with 1 Axes>"
      ]
     },
     "metadata": {
      "needs_background": "light"
     },
     "output_type": "display_data"
    }
   ],
   "source": [
    "bar_loyalty_flag_color = ords_prods_cust_merge['loyalty_flag'].value_counts().plot.bar(color = ['green', 'purple', 'red'])"
   ]
  },
  {
   "cell_type": "code",
   "execution_count": 64,
   "id": "99b9f47b",
   "metadata": {},
   "outputs": [],
   "source": [
    "# export to project folder\n",
    "\n",
    "bar_loyalty_flag_color.figure.savefig(os.path.join(path, '04 Analysis','Visualizations', 'hist_time_of_day.png'))"
   ]
  },
  {
   "cell_type": "code",
   "execution_count": 52,
   "id": "f2b99381",
   "metadata": {},
   "outputs": [],
   "source": [
    "# 5 - Check whether there’s a difference in expenditure (the “prices” column)\n",
    "# depending on the hour of the day. (Hint: To check this, you need to use \n",
    "# an accurate sample for your line chart!)"
   ]
  },
  {
   "cell_type": "code",
   "execution_count": 54,
   "id": "a539d9bb",
   "metadata": {},
   "outputs": [],
   "source": [
    "# creating sampling of data for line charts\n",
    "# already did this earlier "
   ]
  },
  {
   "cell_type": "code",
   "execution_count": 56,
   "id": "4e060803",
   "metadata": {},
   "outputs": [],
   "source": [
    "# reducing sample to just what we need\n",
    "\n",
    "prices_hours = small[['time_of_order', 'prices']]"
   ]
  },
  {
   "cell_type": "code",
   "execution_count": 57,
   "id": "4bb585ed",
   "metadata": {},
   "outputs": [
    {
     "data": {
      "image/png": "[encoded data removed]",
      "text/plain": [
       "<Figure size 432x288 with 1 Axes>"
      ]
     },
     "metadata": {
      "needs_background": "light"
     },
     "output_type": "display_data"
    }
   ],
   "source": [
    "# plotting line chart - line2 = prices & hour of day of order\n",
    "\n",
    "line2 = sns.lineplot(data = prices_hours, x = 'time_of_order', y = 'prices')"
   ]
  },
  {
   "cell_type": "code",
   "execution_count": 65,
   "id": "d7ec7be8",
   "metadata": {},
   "outputs": [],
   "source": [
    "# export to project folder\n",
    "\n",
    "line2.figure.savefig(os.path.join(path, '04 Analysis','Visualizations', 'line_time_order_prices.png'))"
   ]
  },
  {
   "cell_type": "code",
   "execution_count": 66,
   "id": "4a1fa1d8",
   "metadata": {},
   "outputs": [],
   "source": [
    "# 6 = Now that you have information about customers, you need to conduct \n",
    "# some exploratory analysis of customer demographics to inform the targeted \n",
    "# marketing campaigns. First, determine whether there’s a connection between \n",
    "#age and family status by creating a line chart exploring the connections \n",
    "#between age and number of dependents:\n",
    "\n",
    "#In a markdown cell beneath your line chart, \n",
    "#describe what the line chart shows."
   ]
  },
  {
   "cell_type": "code",
   "execution_count": 68,
   "id": "bbbaf17c",
   "metadata": {},
   "outputs": [],
   "source": [
    "# reducing sample to just what we need\n",
    "\n",
    "age_fam_status = small[['age', 'dependants']]"
   ]
  },
  {
   "cell_type": "code",
   "execution_count": 69,
   "id": "590205af",
   "metadata": {},
   "outputs": [
    {
     "data": {
      "image/png": "[encoded data removed]",
      "text/plain": [
       "<Figure size 432x288 with 1 Axes>"
      ]
     },
     "metadata": {
      "needs_background": "light"
     },
     "output_type": "display_data"
    }
   ],
   "source": [
    "# plotting line chart - line3 = age & family status\n",
    "\n",
    "line3 = sns.lineplot(data = age_fam_status, x = 'age', y = 'dependants')"
   ]
  },
  {
   "cell_type": "code",
   "execution_count": 70,
   "id": "401bf50f",
   "metadata": {},
   "outputs": [],
   "source": [
    "# There does not seem to be a connection between age and number of dependants"
   ]
  },
  {
   "cell_type": "code",
   "execution_count": 71,
   "id": "5b20d534",
   "metadata": {},
   "outputs": [],
   "source": [
    "# export to project folder\n",
    "\n",
    "line3.figure.savefig(os.path.join(path, '04 Analysis','Visualizations', 'line_age_fam_status.png'))"
   ]
  },
  {
   "cell_type": "code",
   "execution_count": 1,
   "id": "cd076b60",
   "metadata": {},
   "outputs": [],
   "source": [
    "# 7 - You’ll also need to explore whether there’s a connection between 4\n",
    "# age and spending power. To visualize this relationship, create a \n",
    "# scatterplot using the sns.scatterplot() function.\n",
    "\n",
    "# In a markdown cell beneath your scatterplot, describe what the scatterplot \n",
    "# shows."
   ]
  },
  {
   "cell_type": "code",
   "execution_count": 4,
   "id": "4a312ce9",
   "metadata": {},
   "outputs": [
    {
     "data": {
      "image/png": "[encoded data removed]",
      "text/plain": [
       "<Figure size 432x288 with 1 Axes>"
      ]
     },
     "metadata": {
      "needs_background": "light"
     },
     "output_type": "display_data"
    }
   ],
   "source": [
    "scatter_plot2 = sns.scatterplot(x = 'age', y = 'income',data = ords_prods_cust_merge)"
   ]
  },
  {
   "cell_type": "code",
   "execution_count": 5,
   "id": "62595225",
   "metadata": {},
   "outputs": [],
   "source": [
    "# The scatter plot shoes that as age increases, so does income. That makes sense because the older\n",
    "# people get and the more they advance in their fields/life, the more wealth they aquire. "
   ]
  },
  {
   "cell_type": "code",
   "execution_count": 6,
   "id": "4ca76b28",
   "metadata": {},
   "outputs": [],
   "source": [
    "# export to project folder\n",
    "\n",
    "scatter_plot2.figure.savefig(os.path.join(path, '04 Analysis','Visualizations', 'scatter_plot_age_income.png'))"
   ]
  },
  {
   "cell_type": "code",
   "execution_count": null,
   "id": "7a3d93cb",
   "metadata": {},
   "outputs": [],
   "source": []
  }
 ],
 "metadata": {
  "kernelspec": {
   "display_name": "Python 3 (ipykernel)",
   "language": "python",
   "name": "python3"
  },
  "language_info": {
   "codemirror_mode": {
    "name": "ipython",
    "version": 3
   },
   "file_extension": ".py",
   "mimetype": "text/x-python",
   "name": "python",
   "nbconvert_exporter": "python",
   "pygments_lexer": "ipython3",
   "version": "3.9.7"
  }
 },
 "nbformat": 4,
 "nbformat_minor": 5
}
