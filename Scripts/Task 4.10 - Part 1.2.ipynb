{
 "cells": [
  {
   "cell_type": "code",
   "execution_count": 1,
   "id": "f13bccbe",
   "metadata": {},
   "outputs": [],
   "source": [
    "# import libraries\n",
    "\n",
    "import pandas as pd\n",
    "import numpy as np\n",
    "import os\n",
    "import matplotlib.pyplot as plt\n",
    "import seaborn as sns\n",
    "import scipy"
   ]
  },
  {
   "cell_type": "code",
   "execution_count": 2,
   "id": "1985995b",
   "metadata": {},
   "outputs": [],
   "source": [
    "#path import\n",
    "path = r'C:\\Users\\guzic\\Contacts\\Instacart Grocery Basket Analysis'"
   ]
  },
  {
   "cell_type": "code",
   "execution_count": 3,
   "id": "e62418df",
   "metadata": {},
   "outputs": [
    {
     "ename": "MemoryError",
     "evalue": "",
     "output_type": "error",
     "traceback": [
      "\u001b[1;31m---------------------------------------------------------------------------\u001b[0m",
      "\u001b[1;31mMemoryError\u001b[0m                               Traceback (most recent call last)",
      "\u001b[1;32m~\\AppData\\Local\\Temp/ipykernel_19880/208191254.py\u001b[0m in \u001b[0;36m<module>\u001b[1;34m\u001b[0m\n\u001b[0;32m      1\u001b[0m \u001b[1;31m# pickel file import\u001b[0m\u001b[1;33m\u001b[0m\u001b[1;33m\u001b[0m\u001b[0m\n\u001b[0;32m      2\u001b[0m \u001b[1;33m\u001b[0m\u001b[0m\n\u001b[1;32m----> 3\u001b[1;33m \u001b[0mords_prods_cust_merge\u001b[0m \u001b[1;33m=\u001b[0m \u001b[0mpd\u001b[0m\u001b[1;33m.\u001b[0m\u001b[0mread_pickle\u001b[0m\u001b[1;33m(\u001b[0m\u001b[0mos\u001b[0m\u001b[1;33m.\u001b[0m\u001b[0mpath\u001b[0m\u001b[1;33m.\u001b[0m\u001b[0mjoin\u001b[0m\u001b[1;33m(\u001b[0m\u001b[0mpath\u001b[0m\u001b[1;33m,\u001b[0m \u001b[1;34m'02 Data'\u001b[0m\u001b[1;33m,\u001b[0m \u001b[1;34m'Prepped Data'\u001b[0m\u001b[1;33m,\u001b[0m \u001b[1;34m'ords_prods_cust_merged2.pkl'\u001b[0m\u001b[1;33m)\u001b[0m\u001b[1;33m)\u001b[0m\u001b[1;33m\u001b[0m\u001b[1;33m\u001b[0m\u001b[0m\n\u001b[0m",
      "\u001b[1;32m~\\anaconda3\\lib\\site-packages\\pandas\\io\\pickle.py\u001b[0m in \u001b[0;36mread_pickle\u001b[1;34m(filepath_or_buffer, compression, storage_options)\u001b[0m\n\u001b[0;32m    215\u001b[0m                     \u001b[1;31m# RawIOBase, BufferedIOBase, TextIOBase, TextIOWrapper, mmap]\";\u001b[0m\u001b[1;33m\u001b[0m\u001b[1;33m\u001b[0m\u001b[0m\n\u001b[0;32m    216\u001b[0m                     \u001b[1;31m# expected \"IO[bytes]\"\u001b[0m\u001b[1;33m\u001b[0m\u001b[1;33m\u001b[0m\u001b[0m\n\u001b[1;32m--> 217\u001b[1;33m                     \u001b[1;32mreturn\u001b[0m \u001b[0mpickle\u001b[0m\u001b[1;33m.\u001b[0m\u001b[0mload\u001b[0m\u001b[1;33m(\u001b[0m\u001b[0mhandles\u001b[0m\u001b[1;33m.\u001b[0m\u001b[0mhandle\u001b[0m\u001b[1;33m)\u001b[0m  \u001b[1;31m# type: ignore[arg-type]\u001b[0m\u001b[1;33m\u001b[0m\u001b[1;33m\u001b[0m\u001b[0m\n\u001b[0m\u001b[0;32m    218\u001b[0m             \u001b[1;32mexcept\u001b[0m \u001b[0mexcs_to_catch\u001b[0m\u001b[1;33m:\u001b[0m\u001b[1;33m\u001b[0m\u001b[1;33m\u001b[0m\u001b[0m\n\u001b[0;32m    219\u001b[0m                 \u001b[1;31m# e.g.\u001b[0m\u001b[1;33m\u001b[0m\u001b[1;33m\u001b[0m\u001b[0m\n",
      "\u001b[1;31mMemoryError\u001b[0m: "
     ]
    }
   ],
   "source": [
    "# pickel file import\n",
    "\n",
    "ords_prods_cust_merge = pd.read_pickle(os.path.join(path, '02 Data', 'Prepped Data', 'ords_prods_cust_merged2.pkl'))"
   ]
  },
  {
   "cell_type": "code",
   "execution_count": 4,
   "id": "3ed4aee8",
   "metadata": {
    "scrolled": true
   },
   "outputs": [
    {
     "data": {
      "text/html": [
       "<div>\n",
       "<style scoped>\n",
       "    .dataframe tbody tr th:only-of-type {\n",
       "        vertical-align: middle;\n",
       "    }\n",
       "\n",
       "    .dataframe tbody tr th {\n",
       "        vertical-align: top;\n",
       "    }\n",
       "\n",
       "    .dataframe thead th {\n",
       "        text-align: right;\n",
       "    }\n",
       "</style>\n",
       "<table border=\"1\" class=\"dataframe\">\n",
       "  <thead>\n",
       "    <tr style=\"text-align: right;\">\n",
       "      <th></th>\n",
       "      <th>order_id</th>\n",
       "      <th>user_id</th>\n",
       "      <th>order_number</th>\n",
       "      <th>orders_day_of_the_week</th>\n",
       "      <th>time_of_order</th>\n",
       "      <th>days_since_prior_order</th>\n",
       "      <th>product_id</th>\n",
       "      <th>add_to_cart_order</th>\n",
       "      <th>reordered</th>\n",
       "      <th>_merge</th>\n",
       "      <th>...</th>\n",
       "      <th>dependants</th>\n",
       "      <th>fam_status</th>\n",
       "      <th>income</th>\n",
       "      <th>region</th>\n",
       "      <th>activity_flag</th>\n",
       "      <th>generation</th>\n",
       "      <th>economic_class</th>\n",
       "      <th>parent_status</th>\n",
       "      <th>day_of_week</th>\n",
       "      <th>department_name</th>\n",
       "    </tr>\n",
       "  </thead>\n",
       "  <tbody>\n",
       "    <tr>\n",
       "      <th>0</th>\n",
       "      <td>2539329</td>\n",
       "      <td>1</td>\n",
       "      <td>1</td>\n",
       "      <td>2</td>\n",
       "      <td>8</td>\n",
       "      <td>100000</td>\n",
       "      <td>196</td>\n",
       "      <td>1</td>\n",
       "      <td>0</td>\n",
       "      <td>both</td>\n",
       "      <td>...</td>\n",
       "      <td>3</td>\n",
       "      <td>married</td>\n",
       "      <td>40423</td>\n",
       "      <td>South</td>\n",
       "      <td>Active</td>\n",
       "      <td>Millenial, 25-41</td>\n",
       "      <td>Lower, less than $52200</td>\n",
       "      <td>Parent</td>\n",
       "      <td>Monday</td>\n",
       "      <td>Beverages</td>\n",
       "    </tr>\n",
       "    <tr>\n",
       "      <th>1</th>\n",
       "      <td>2398795</td>\n",
       "      <td>1</td>\n",
       "      <td>2</td>\n",
       "      <td>3</td>\n",
       "      <td>7</td>\n",
       "      <td>15.0</td>\n",
       "      <td>196</td>\n",
       "      <td>1</td>\n",
       "      <td>1</td>\n",
       "      <td>both</td>\n",
       "      <td>...</td>\n",
       "      <td>3</td>\n",
       "      <td>married</td>\n",
       "      <td>40423</td>\n",
       "      <td>South</td>\n",
       "      <td>Active</td>\n",
       "      <td>Millenial, 25-41</td>\n",
       "      <td>Lower, less than $52200</td>\n",
       "      <td>Parent</td>\n",
       "      <td>Tuesday</td>\n",
       "      <td>Beverages</td>\n",
       "    </tr>\n",
       "    <tr>\n",
       "      <th>2</th>\n",
       "      <td>473747</td>\n",
       "      <td>1</td>\n",
       "      <td>3</td>\n",
       "      <td>3</td>\n",
       "      <td>12</td>\n",
       "      <td>21.0</td>\n",
       "      <td>196</td>\n",
       "      <td>1</td>\n",
       "      <td>1</td>\n",
       "      <td>both</td>\n",
       "      <td>...</td>\n",
       "      <td>3</td>\n",
       "      <td>married</td>\n",
       "      <td>40423</td>\n",
       "      <td>South</td>\n",
       "      <td>Active</td>\n",
       "      <td>Millenial, 25-41</td>\n",
       "      <td>Lower, less than $52200</td>\n",
       "      <td>Parent</td>\n",
       "      <td>Tuesday</td>\n",
       "      <td>Beverages</td>\n",
       "    </tr>\n",
       "    <tr>\n",
       "      <th>3</th>\n",
       "      <td>2254736</td>\n",
       "      <td>1</td>\n",
       "      <td>4</td>\n",
       "      <td>4</td>\n",
       "      <td>7</td>\n",
       "      <td>29.0</td>\n",
       "      <td>196</td>\n",
       "      <td>1</td>\n",
       "      <td>1</td>\n",
       "      <td>both</td>\n",
       "      <td>...</td>\n",
       "      <td>3</td>\n",
       "      <td>married</td>\n",
       "      <td>40423</td>\n",
       "      <td>South</td>\n",
       "      <td>Active</td>\n",
       "      <td>Millenial, 25-41</td>\n",
       "      <td>Lower, less than $52200</td>\n",
       "      <td>Parent</td>\n",
       "      <td>Wednesday</td>\n",
       "      <td>Beverages</td>\n",
       "    </tr>\n",
       "    <tr>\n",
       "      <th>4</th>\n",
       "      <td>431534</td>\n",
       "      <td>1</td>\n",
       "      <td>5</td>\n",
       "      <td>4</td>\n",
       "      <td>15</td>\n",
       "      <td>28.0</td>\n",
       "      <td>196</td>\n",
       "      <td>1</td>\n",
       "      <td>1</td>\n",
       "      <td>both</td>\n",
       "      <td>...</td>\n",
       "      <td>3</td>\n",
       "      <td>married</td>\n",
       "      <td>40423</td>\n",
       "      <td>South</td>\n",
       "      <td>Active</td>\n",
       "      <td>Millenial, 25-41</td>\n",
       "      <td>Lower, less than $52200</td>\n",
       "      <td>Parent</td>\n",
       "      <td>Wednesday</td>\n",
       "      <td>Beverages</td>\n",
       "    </tr>\n",
       "  </tbody>\n",
       "</table>\n",
       "<p>5 rows × 38 columns</p>\n",
       "</div>"
      ],
      "text/plain": [
       "   order_id user_id  order_number  orders_day_of_the_week  time_of_order  \\\n",
       "0   2539329       1             1                       2              8   \n",
       "1   2398795       1             2                       3              7   \n",
       "2    473747       1             3                       3             12   \n",
       "3   2254736       1             4                       4              7   \n",
       "4    431534       1             5                       4             15   \n",
       "\n",
       "  days_since_prior_order  product_id  add_to_cart_order  reordered _merge  \\\n",
       "0                 100000         196                  1          0   both   \n",
       "1                   15.0         196                  1          1   both   \n",
       "2                   21.0         196                  1          1   both   \n",
       "3                   29.0         196                  1          1   both   \n",
       "4                   28.0         196                  1          1   both   \n",
       "\n",
       "   ... dependants  fam_status  income  region activity_flag        generation  \\\n",
       "0  ...          3     married   40423   South        Active  Millenial, 25-41   \n",
       "1  ...          3     married   40423   South        Active  Millenial, 25-41   \n",
       "2  ...          3     married   40423   South        Active  Millenial, 25-41   \n",
       "3  ...          3     married   40423   South        Active  Millenial, 25-41   \n",
       "4  ...          3     married   40423   South        Active  Millenial, 25-41   \n",
       "\n",
       "            economic_class parent_status  day_of_week department_name  \n",
       "0  Lower, less than $52200        Parent       Monday       Beverages  \n",
       "1  Lower, less than $52200        Parent      Tuesday       Beverages  \n",
       "2  Lower, less than $52200        Parent      Tuesday       Beverages  \n",
       "3  Lower, less than $52200        Parent    Wednesday       Beverages  \n",
       "4  Lower, less than $52200        Parent    Wednesday       Beverages  \n",
       "\n",
       "[5 rows x 38 columns]"
      ]
     },
     "execution_count": 4,
     "metadata": {},
     "output_type": "execute_result"
    }
   ],
   "source": [
    "# import checks\n",
    "\n",
    "ords_prods_cust_merge.head()"
   ]
  },
  {
   "cell_type": "code",
   "execution_count": 5,
   "id": "fc6796a7",
   "metadata": {},
   "outputs": [
    {
     "data": {
      "text/plain": [
       "(30964564, 38)"
      ]
     },
     "execution_count": 5,
     "metadata": {},
     "output_type": "execute_result"
    }
   ],
   "source": [
    "# shape check\n",
    "\n",
    "ords_prods_cust_merge.shape"
   ]
  },
  {
   "cell_type": "code",
   "execution_count": 6,
   "id": "4acc50d1",
   "metadata": {},
   "outputs": [
    {
     "data": {
      "text/plain": [
       "Index(['order_id', 'user_id', 'order_number', 'orders_day_of_the_week',\n",
       "       'time_of_order', 'days_since_prior_order', 'product_id',\n",
       "       'add_to_cart_order', 'reordered', '_merge', 'product_name', 'aisle_id',\n",
       "       'department_id', 'prices', 'price_range_loc', 'busiest_day',\n",
       "       'busiest_days', 'busiest_period_of_day', 'max_order', 'loyalty_flag',\n",
       "       'avg_price', 'spending_flag', 'frequency_customer', 'frequency_flag',\n",
       "       'gender', 'state', 'age', 'date_joined', 'dependants', 'fam_status',\n",
       "       'income', 'region', 'activity_flag', 'generation', 'economic_class',\n",
       "       'parent_status', 'day_of_week', 'department_name'],\n",
       "      dtype='object')"
      ]
     },
     "execution_count": 6,
     "metadata": {},
     "output_type": "execute_result"
    }
   ],
   "source": [
    "ords_prods_cust_merge.columns"
   ]
  },
  {
   "cell_type": "code",
   "execution_count": 7,
   "id": "9170864f",
   "metadata": {},
   "outputs": [],
   "source": [
    "# 7 - Aggregate the max, mean, and min variables on a customer-profile level \n",
    "# for usage frequency and expenditure.\n",
    "\n",
    "#ords_prods_cust_merge.groupby('generation').agg({'days_since_prior_order' : ['mean', 'min', 'max']})\n",
    "\n",
    "#generation_freq = ords_prods_cust_merge.groupby('generation').agg({'days_since_prior_order' : ['mean', 'min', 'max']})\n",
    "#region_freq = ords_prods_cust_merge.groupby('region').agg({'days_since_prior_order' : ['mean', 'min', 'max']})\n",
    "#economic_class_freq = ords_prods_cust_merge.groupby('economic_class').agg({'days_since_prior_order' : ['mean', 'min', 'max']})\n",
    "#parent_status_freq = ords_prods_cust_merge.groupby('parent_status').agg({'days_since_prior_order' : ['mean', 'min', 'max']})\n"
   ]
  },
  {
   "cell_type": "code",
   "execution_count": null,
   "id": "17a2d4ac",
   "metadata": {},
   "outputs": [],
   "source": [
    "# expenditure"
   ]
  },
  {
   "cell_type": "code",
   "execution_count": 13,
   "id": "263a9f54",
   "metadata": {},
   "outputs": [
    {
     "data": {
      "text/html": [
       "<div>\n",
       "<style scoped>\n",
       "    .dataframe tbody tr th:only-of-type {\n",
       "        vertical-align: middle;\n",
       "    }\n",
       "\n",
       "    .dataframe tbody tr th {\n",
       "        vertical-align: top;\n",
       "    }\n",
       "\n",
       "    .dataframe thead tr th {\n",
       "        text-align: left;\n",
       "    }\n",
       "\n",
       "    .dataframe thead tr:last-of-type th {\n",
       "        text-align: right;\n",
       "    }\n",
       "</style>\n",
       "<table border=\"1\" class=\"dataframe\">\n",
       "  <thead>\n",
       "    <tr>\n",
       "      <th></th>\n",
       "      <th colspan=\"3\" halign=\"left\">avg_price</th>\n",
       "    </tr>\n",
       "    <tr>\n",
       "      <th></th>\n",
       "      <th>mean</th>\n",
       "      <th>min</th>\n",
       "      <th>max</th>\n",
       "    </tr>\n",
       "    <tr>\n",
       "      <th>generation</th>\n",
       "      <th></th>\n",
       "      <th></th>\n",
       "      <th></th>\n",
       "    </tr>\n",
       "  </thead>\n",
       "  <tbody>\n",
       "    <tr>\n",
       "      <th>Boomers I, 67-76</th>\n",
       "      <td>11.714221</td>\n",
       "      <td>1.262500</td>\n",
       "      <td>7414.485185</td>\n",
       "    </tr>\n",
       "    <tr>\n",
       "      <th>Boomers II, 58-67</th>\n",
       "      <td>11.759717</td>\n",
       "      <td>1.308333</td>\n",
       "      <td>3181.452910</td>\n",
       "    </tr>\n",
       "    <tr>\n",
       "      <th>Gen-X, 42-57</th>\n",
       "      <td>12.101568</td>\n",
       "      <td>1.000000</td>\n",
       "      <td>15006.940000</td>\n",
       "    </tr>\n",
       "    <tr>\n",
       "      <th>Gen-Z, 18-25</th>\n",
       "      <td>12.373002</td>\n",
       "      <td>2.000000</td>\n",
       "      <td>10209.987755</td>\n",
       "    </tr>\n",
       "    <tr>\n",
       "      <th>Millenial, 25-41</th>\n",
       "      <td>11.951905</td>\n",
       "      <td>1.000000</td>\n",
       "      <td>6388.812766</td>\n",
       "    </tr>\n",
       "    <tr>\n",
       "      <th>Post War, 76-95=4</th>\n",
       "      <td>11.648011</td>\n",
       "      <td>1.933333</td>\n",
       "      <td>14042.512281</td>\n",
       "    </tr>\n",
       "    <tr>\n",
       "      <th>WWII, 95+</th>\n",
       "      <td>11.355611</td>\n",
       "      <td>2.133333</td>\n",
       "      <td>6390.138298</td>\n",
       "    </tr>\n",
       "  </tbody>\n",
       "</table>\n",
       "</div>"
      ],
      "text/plain": [
       "                   avg_price                        \n",
       "                        mean       min           max\n",
       "generation                                          \n",
       "Boomers I, 67-76   11.714221  1.262500   7414.485185\n",
       "Boomers II, 58-67  11.759717  1.308333   3181.452910\n",
       "Gen-X, 42-57       12.101568  1.000000  15006.940000\n",
       "Gen-Z, 18-25       12.373002  2.000000  10209.987755\n",
       "Millenial, 25-41   11.951905  1.000000   6388.812766\n",
       "Post War, 76-95=4  11.648011  1.933333  14042.512281\n",
       "WWII, 95+          11.355611  2.133333   6390.138298"
      ]
     },
     "execution_count": 13,
     "metadata": {},
     "output_type": "execute_result"
    }
   ],
   "source": [
    "ords_prods_cust_merge.groupby('generation').agg({'avg_price' : ['mean', 'min', 'max']})"
   ]
  },
  {
   "cell_type": "code",
   "execution_count": 14,
   "id": "b767c919",
   "metadata": {},
   "outputs": [
    {
     "data": {
      "text/html": [
       "<div>\n",
       "<style scoped>\n",
       "    .dataframe tbody tr th:only-of-type {\n",
       "        vertical-align: middle;\n",
       "    }\n",
       "\n",
       "    .dataframe tbody tr th {\n",
       "        vertical-align: top;\n",
       "    }\n",
       "\n",
       "    .dataframe thead tr th {\n",
       "        text-align: left;\n",
       "    }\n",
       "\n",
       "    .dataframe thead tr:last-of-type th {\n",
       "        text-align: right;\n",
       "    }\n",
       "</style>\n",
       "<table border=\"1\" class=\"dataframe\">\n",
       "  <thead>\n",
       "    <tr>\n",
       "      <th></th>\n",
       "      <th colspan=\"3\" halign=\"left\">avg_price</th>\n",
       "    </tr>\n",
       "    <tr>\n",
       "      <th></th>\n",
       "      <th>mean</th>\n",
       "      <th>min</th>\n",
       "      <th>max</th>\n",
       "    </tr>\n",
       "    <tr>\n",
       "      <th>region</th>\n",
       "      <th></th>\n",
       "      <th></th>\n",
       "      <th></th>\n",
       "    </tr>\n",
       "  </thead>\n",
       "  <tbody>\n",
       "    <tr>\n",
       "      <th>Midwest</th>\n",
       "      <td>12.598113</td>\n",
       "      <td>1.0000</td>\n",
       "      <td>8794.882427</td>\n",
       "    </tr>\n",
       "    <tr>\n",
       "      <th>Northeast</th>\n",
       "      <td>11.542582</td>\n",
       "      <td>1.1000</td>\n",
       "      <td>7414.485185</td>\n",
       "    </tr>\n",
       "    <tr>\n",
       "      <th>South</th>\n",
       "      <td>12.118845</td>\n",
       "      <td>1.2625</td>\n",
       "      <td>15006.940000</td>\n",
       "    </tr>\n",
       "    <tr>\n",
       "      <th>West</th>\n",
       "      <td>11.518117</td>\n",
       "      <td>1.0000</td>\n",
       "      <td>10209.987755</td>\n",
       "    </tr>\n",
       "  </tbody>\n",
       "</table>\n",
       "</div>"
      ],
      "text/plain": [
       "           avg_price                      \n",
       "                mean     min           max\n",
       "region                                    \n",
       "Midwest    12.598113  1.0000   8794.882427\n",
       "Northeast  11.542582  1.1000   7414.485185\n",
       "South      12.118845  1.2625  15006.940000\n",
       "West       11.518117  1.0000  10209.987755"
      ]
     },
     "execution_count": 14,
     "metadata": {},
     "output_type": "execute_result"
    }
   ],
   "source": [
    "ords_prods_cust_merge.groupby('region').agg({'avg_price' : ['mean', 'min', 'max']})"
   ]
  },
  {
   "cell_type": "code",
   "execution_count": 12,
   "id": "b17df1be",
   "metadata": {},
   "outputs": [
    {
     "data": {
      "text/html": [
       "<div>\n",
       "<style scoped>\n",
       "    .dataframe tbody tr th:only-of-type {\n",
       "        vertical-align: middle;\n",
       "    }\n",
       "\n",
       "    .dataframe tbody tr th {\n",
       "        vertical-align: top;\n",
       "    }\n",
       "\n",
       "    .dataframe thead tr th {\n",
       "        text-align: left;\n",
       "    }\n",
       "\n",
       "    .dataframe thead tr:last-of-type th {\n",
       "        text-align: right;\n",
       "    }\n",
       "</style>\n",
       "<table border=\"1\" class=\"dataframe\">\n",
       "  <thead>\n",
       "    <tr>\n",
       "      <th></th>\n",
       "      <th colspan=\"3\" halign=\"left\">avg_price</th>\n",
       "    </tr>\n",
       "    <tr>\n",
       "      <th></th>\n",
       "      <th>mean</th>\n",
       "      <th>min</th>\n",
       "      <th>max</th>\n",
       "    </tr>\n",
       "    <tr>\n",
       "      <th>economic_class</th>\n",
       "      <th></th>\n",
       "      <th></th>\n",
       "      <th></th>\n",
       "    </tr>\n",
       "  </thead>\n",
       "  <tbody>\n",
       "    <tr>\n",
       "      <th>Lower, less than $52200</th>\n",
       "      <td>6.766403</td>\n",
       "      <td>1.0</td>\n",
       "      <td>13.878571</td>\n",
       "    </tr>\n",
       "    <tr>\n",
       "      <th>Middle</th>\n",
       "      <td>9.601568</td>\n",
       "      <td>1.3</td>\n",
       "      <td>14042.512281</td>\n",
       "    </tr>\n",
       "    <tr>\n",
       "      <th>Upper, more than $156k</th>\n",
       "      <td>39.869828</td>\n",
       "      <td>7.0</td>\n",
       "      <td>15006.940000</td>\n",
       "    </tr>\n",
       "  </tbody>\n",
       "</table>\n",
       "</div>"
      ],
      "text/plain": [
       "                         avg_price                   \n",
       "                              mean  min           max\n",
       "economic_class                                       \n",
       "Lower, less than $52200   6.766403  1.0     13.878571\n",
       "Middle                    9.601568  1.3  14042.512281\n",
       "Upper, more than $156k   39.869828  7.0  15006.940000"
      ]
     },
     "execution_count": 12,
     "metadata": {},
     "output_type": "execute_result"
    }
   ],
   "source": [
    "ords_prods_cust_merge.groupby('economic_class').agg({'avg_price' : ['mean', 'min', 'max']})"
   ]
  },
  {
   "cell_type": "code",
   "execution_count": 15,
   "id": "35ca7f47",
   "metadata": {},
   "outputs": [
    {
     "data": {
      "text/html": [
       "<div>\n",
       "<style scoped>\n",
       "    .dataframe tbody tr th:only-of-type {\n",
       "        vertical-align: middle;\n",
       "    }\n",
       "\n",
       "    .dataframe tbody tr th {\n",
       "        vertical-align: top;\n",
       "    }\n",
       "\n",
       "    .dataframe thead tr th {\n",
       "        text-align: left;\n",
       "    }\n",
       "\n",
       "    .dataframe thead tr:last-of-type th {\n",
       "        text-align: right;\n",
       "    }\n",
       "</style>\n",
       "<table border=\"1\" class=\"dataframe\">\n",
       "  <thead>\n",
       "    <tr>\n",
       "      <th></th>\n",
       "      <th colspan=\"3\" halign=\"left\">avg_price</th>\n",
       "    </tr>\n",
       "    <tr>\n",
       "      <th></th>\n",
       "      <th>mean</th>\n",
       "      <th>min</th>\n",
       "      <th>max</th>\n",
       "    </tr>\n",
       "    <tr>\n",
       "      <th>parent_status</th>\n",
       "      <th></th>\n",
       "      <th></th>\n",
       "      <th></th>\n",
       "    </tr>\n",
       "  </thead>\n",
       "  <tbody>\n",
       "    <tr>\n",
       "      <th>Non-parent</th>\n",
       "      <td>12.102657</td>\n",
       "      <td>1.0</td>\n",
       "      <td>15006.940000</td>\n",
       "    </tr>\n",
       "    <tr>\n",
       "      <th>Parent</th>\n",
       "      <td>11.877157</td>\n",
       "      <td>1.0</td>\n",
       "      <td>10209.987755</td>\n",
       "    </tr>\n",
       "  </tbody>\n",
       "</table>\n",
       "</div>"
      ],
      "text/plain": [
       "               avg_price                   \n",
       "                    mean  min           max\n",
       "parent_status                              \n",
       "Non-parent     12.102657  1.0  15006.940000\n",
       "Parent         11.877157  1.0  10209.987755"
      ]
     },
     "execution_count": 15,
     "metadata": {},
     "output_type": "execute_result"
    }
   ],
   "source": [
    "ords_prods_cust_merge.groupby('parent_status').agg({'avg_price' : ['mean', 'min', 'max']})\n"
   ]
  },
  {
   "cell_type": "code",
   "execution_count": null,
   "id": "76b15389",
   "metadata": {},
   "outputs": [],
   "source": [
    "# frequency"
   ]
  },
  {
   "cell_type": "code",
   "execution_count": 17,
   "id": "e1e5ac78",
   "metadata": {},
   "outputs": [
    {
     "data": {
      "text/plain": [
       "generation         frequency_flag       \n",
       "Boomers I, 67-76   Frequent customer        2895721\n",
       "                   Regular customer          966141\n",
       "                   Non-frequent customer     505783\n",
       "Boomers II, 58-67  Frequent customer        2770451\n",
       "                   Regular customer          963436\n",
       "                   Non-frequent customer     517635\n",
       "Gen-X, 42-57       Frequent customer        5123881\n",
       "                   Regular customer         1775609\n",
       "                   Non-frequent customer     930311\n",
       "Gen-Z, 18-25       Frequent customer        2234308\n",
       "                   Regular customer          756047\n",
       "                   Non-frequent customer     395706\n",
       "Millenial, 25-41   Frequent customer        5066063\n",
       "                   Regular customer         1763819\n",
       "                   Non-frequent customer     905302\n",
       "Post War, 76-95=4  Frequent customer        1594057\n",
       "                   Regular customer          553452\n",
       "                   Non-frequent customer     288543\n",
       "WWII, 95+          Frequent customer         626152\n",
       "                   Regular customer          217330\n",
       "                   Non-frequent customer     114817\n",
       "Name: frequency_flag, dtype: int64"
      ]
     },
     "execution_count": 17,
     "metadata": {},
     "output_type": "execute_result"
    }
   ],
   "source": [
    "ords_prods_cust_merge.groupby('generation')['frequency_flag'].value_counts(dropna = False)"
   ]
  },
  {
   "cell_type": "code",
   "execution_count": 45,
   "id": "4b5cbea4",
   "metadata": {},
   "outputs": [
    {
     "data": {
      "text/plain": [
       "region     frequency_flag       \n",
       "Midwest    Frequent customer        3942637\n",
       "           Regular customer         1386726\n",
       "           Non-frequent customer     721519\n",
       "Northeast  Frequent customer        3588160\n",
       "           Regular customer         1239861\n",
       "           Non-frequent customer     636664\n",
       "South      Frequent customer        6775055\n",
       "           Regular customer         2318284\n",
       "           Non-frequent customer    1217800\n",
       "West       Frequent customer        6004781\n",
       "           Regular customer         2050963\n",
       "           Non-frequent customer    1082114\n",
       "Name: frequency_flag, dtype: int64"
      ]
     },
     "execution_count": 45,
     "metadata": {},
     "output_type": "execute_result"
    }
   ],
   "source": [
    "ords_prods_cust_merge.groupby('region')['frequency_flag'].value_counts(dropna = False)"
   ]
  },
  {
   "cell_type": "code",
   "execution_count": 19,
   "id": "0ff1a77c",
   "metadata": {},
   "outputs": [
    {
     "data": {
      "text/plain": [
       "economic_class           frequency_flag       \n",
       "Lower, less than $52200  Frequent customer         2319492\n",
       "                         Regular customer           867121\n",
       "                         Non-frequent customer      505840\n",
       "Middle                   Frequent customer        16166132\n",
       "                         Regular customer          5524302\n",
       "                         Non-frequent customer     2850214\n",
       "Upper, more than $156k   Frequent customer         1825009\n",
       "                         Regular customer           604411\n",
       "                         Non-frequent customer      302043\n",
       "Name: frequency_flag, dtype: int64"
      ]
     },
     "execution_count": 19,
     "metadata": {},
     "output_type": "execute_result"
    }
   ],
   "source": [
    "ords_prods_cust_merge.groupby('economic_class')['frequency_flag'].value_counts(dropna = False)"
   ]
  },
  {
   "cell_type": "code",
   "execution_count": 20,
   "id": "416def63",
   "metadata": {},
   "outputs": [
    {
     "data": {
      "text/plain": [
       "parent_status  frequency_flag       \n",
       "Non-parent     Frequent customer         5066668\n",
       "               Regular customer          1762011\n",
       "               Non-frequent customer      911002\n",
       "Parent         Frequent customer        15243965\n",
       "               Regular customer          5233823\n",
       "               Non-frequent customer     2747095\n",
       "Name: frequency_flag, dtype: int64"
      ]
     },
     "execution_count": 20,
     "metadata": {},
     "output_type": "execute_result"
    }
   ],
   "source": [
    "ords_prods_cust_merge.groupby('parent_status')['frequency_flag'].value_counts(dropna = False)"
   ]
  },
  {
   "cell_type": "code",
   "execution_count": 22,
   "id": "732a37f1",
   "metadata": {},
   "outputs": [],
   "source": [
    "# 8 - Compare your customer profiles with regions and departments. Can you \n",
    "# identify a link between them? Customers may demonstrate different behaviors\n",
    "# across regions, which could make this information important"
   ]
  },
  {
   "cell_type": "code",
   "execution_count": 31,
   "id": "e66c2d59",
   "metadata": {},
   "outputs": [
    {
     "data": {
      "image/png": "[encoded data removed]",
      "text/plain": [
       "<Figure size 432x288 with 1 Axes>"
      ]
     },
     "metadata": {
      "needs_background": "light"
     },
     "output_type": "display_data"
    }
   ],
   "source": [
    "region_avg_price = sns.scatterplot(x = 'region', y = 'avg_price',data = ords_prods_cust_merge)"
   ]
  },
  {
   "cell_type": "code",
   "execution_count": 33,
   "id": "98d8f1f9",
   "metadata": {},
   "outputs": [],
   "source": [
    "# Comparing regions & average prrice - the south has the highest average price"
   ]
  },
  {
   "cell_type": "code",
   "execution_count": 32,
   "id": "dfeecfd2",
   "metadata": {},
   "outputs": [],
   "source": [
    "# export\n",
    "region_avg_price.figure.savefig(os.path.join(path, '04 Analysis','Visualizations', 'region_avg_price.png'))"
   ]
  },
  {
   "cell_type": "code",
   "execution_count": 34,
   "id": "632cb75e",
   "metadata": {},
   "outputs": [
    {
     "data": {
      "image/png": "[encoded data removed]",
      "text/plain": [
       "<Figure size 432x288 with 1 Axes>"
      ]
     },
     "metadata": {
      "needs_background": "light"
     },
     "output_type": "display_data"
    }
   ],
   "source": [
    "region_products = sns.scatterplot(x = 'region', y = 'product_id',data = ords_prods_cust_merge)"
   ]
  },
  {
   "cell_type": "code",
   "execution_count": 40,
   "id": "93702ba9",
   "metadata": {},
   "outputs": [],
   "source": [
    "# comparing regions and product_id - nothing is standing out"
   ]
  },
  {
   "cell_type": "code",
   "execution_count": 35,
   "id": "2b4c6363",
   "metadata": {},
   "outputs": [
    {
     "data": {
      "image/png": "[encoded data removed]",
      "text/plain": [
       "<Figure size 432x288 with 1 Axes>"
      ]
     },
     "metadata": {
      "needs_background": "light"
     },
     "output_type": "display_data"
    }
   ],
   "source": [
    "region_time_of_order = sns.scatterplot(x = 'region', y = 'time_of_order',data = ords_prods_cust_merge)"
   ]
  },
  {
   "cell_type": "code",
   "execution_count": 41,
   "id": "81cb3dd9",
   "metadata": {},
   "outputs": [],
   "source": [
    "# comparing regions and time_of_order - nothing is standing out"
   ]
  },
  {
   "cell_type": "code",
   "execution_count": 36,
   "id": "8275ed67",
   "metadata": {},
   "outputs": [
    {
     "data": {
      "image/png": "[encoded data removed]",
      "text/plain": [
       "<Figure size 432x288 with 1 Axes>"
      ]
     },
     "metadata": {
      "needs_background": "light"
     },
     "output_type": "display_data"
    }
   ],
   "source": [
    "region_max_order = sns.scatterplot(x = 'region', y = 'max_order',data = ords_prods_cust_merge)"
   ]
  },
  {
   "cell_type": "code",
   "execution_count": 44,
   "id": "ddf79596",
   "metadata": {},
   "outputs": [],
   "source": [
    "# comparing region and max order - nothing is standing out"
   ]
  },
  {
   "cell_type": "code",
   "execution_count": 39,
   "id": "e55a5c18",
   "metadata": {},
   "outputs": [
    {
     "data": {
      "image/png": "[encoded data removed]",
      "text/plain": [
       "<Figure size 432x288 with 1 Axes>"
      ]
     },
     "metadata": {
      "needs_background": "light"
     },
     "output_type": "display_data"
    }
   ],
   "source": [
    "region_day_of_week = sns.scatterplot(x = 'region', y = 'orders_day_of_the_week',data = ords_prods_cust_merge)"
   ]
  },
  {
   "cell_type": "code",
   "execution_count": 43,
   "id": "f3be12fa",
   "metadata": {},
   "outputs": [],
   "source": [
    "# comparing region and orders_day_of_the_week - nothing is standing out"
   ]
  },
  {
   "cell_type": "code",
   "execution_count": 42,
   "id": "6a05ad21",
   "metadata": {},
   "outputs": [],
   "source": [
    "# data export\n",
    "\n",
    "ords_prods_cust_merge.to_pickle(os.path.join(path, '02 Data','Prepped Data', 'ords_prods_cust_merged2.pkl'))"
   ]
  },
  {
   "cell_type": "code",
   "execution_count": null,
   "id": "15fbc9a6",
   "metadata": {},
   "outputs": [],
   "source": []
  }
 ],
 "metadata": {
  "kernelspec": {
   "display_name": "Python 3 (ipykernel)",
   "language": "python",
   "name": "python3"
  },
  "language_info": {
   "codemirror_mode": {
    "name": "ipython",
    "version": 3
   },
   "file_extension": ".py",
   "mimetype": "text/x-python",
   "name": "python",
   "nbconvert_exporter": "python",
   "pygments_lexer": "ipython3",
   "version": "3.9.7"
  }
 },
 "nbformat": 4,
 "nbformat_minor": 5
}
